{
 "cells": [
  {
   "cell_type": "code",
   "execution_count": 4,
   "metadata": {},
   "outputs": [],
   "source": [
    "# Libraries\n",
    "import pandas as pd\n",
    "import numpy as np\n",
    "import seaborn as sns                       #visualisation\n",
    "import matplotlib.pyplot as plt             #visualisation\n",
    "%matplotlib inline     \n",
    "sns.set(color_codes=True)\n",
    "\n",
    "# SQL\n",
    "import sqlite3\n",
    "from sqlite3 import Error\n",
    "\n",
    "def create_connection(path):\n",
    "    connection = None\n",
    "    try:\n",
    "        connection = sqlite3.connect(path)\n",
    "        print(\"Connection to SQLite DB successful\")\n",
    "    except Error as e:\n",
    "        print(f\"The error '{e}' occurred\")\n",
    "\n",
    "    return connection"
   ]
  },
  {
   "cell_type": "code",
   "execution_count": 5,
   "metadata": {},
   "outputs": [
    {
     "name": "stdout",
     "output_type": "stream",
     "text": [
      "(144, 5)\n",
      "(8406, 10)\n",
      "(5718, 11)\n"
     ]
    }
   ],
   "source": [
    "# Load CSV files:\n",
    "stations_df = pd.read_csv('../data/bike_data.csv')\n",
    "fsq_df = pd.read_csv('../data/fsq_data.csv')\n",
    "yelp_df = pd.read_csv('../data/yelp_data.csv')\n",
    "\n",
    "# Check shapes:\n",
    "print(stations_df.shape)\n",
    "print(fsq_df.shape)\n",
    "print(yelp_df.shape)"
   ]
  },
  {
   "cell_type": "markdown",
   "metadata": {},
   "source": [
    "Join the data from Part 1 with the data from Part 2 to create a new dataframe."
   ]
  },
  {
   "cell_type": "code",
   "execution_count": 6,
   "metadata": {
    "scrolled": true
   },
   "outputs": [
    {
     "name": "stdout",
     "output_type": "stream",
     "text": [
      "number of duplicate rows:  (0, 5)\n",
      "number of duplicate rows:  (7646, 10)\n",
      "number of duplicate rows:  (5291, 11)\n"
     ]
    }
   ],
   "source": [
    "# First, I want to check for and drop duplicates.\n",
    "duplicate_stations_df = stations_df[stations_df.duplicated()]\n",
    "print(\"number of duplicate rows: \", duplicate_stations_df.shape)\n",
    "\n",
    "duplicate_fsq_df = fsq_df[fsq_df.duplicated()]\n",
    "print(\"number of duplicate rows: \", duplicate_fsq_df.shape)\n",
    "\n",
    "duplicate_yelp_df = yelp_df[yelp_df.duplicated()]\n",
    "print(\"number of duplicate rows: \", duplicate_yelp_df.shape)"
   ]
  },
  {
   "cell_type": "markdown",
   "metadata": {},
   "source": [
    "Note: Lots of duplicates were expected in the FourSquare (7646) and Yelp (5291) DataFrames because the query was set to repeat for every bike station coordinate pair, meaning there would be a lot of overlap within overlapping radii.\n",
    "\n",
    "Additionally, some results in the FourSquare DataFrame may be duplicated except for a custom column I added, 'fsq_am_cat' (FourSquare Amalgamated Category), so I want to be sure I delete extra duplicates as well."
   ]
  },
  {
   "cell_type": "code",
   "execution_count": 7,
   "metadata": {},
   "outputs": [
    {
     "name": "stdout",
     "output_type": "stream",
     "text": [
      "Number of unique FourSquare instances =  (705, 10)\n",
      "Number of unique Yelp instances =  (427, 11)\n"
     ]
    }
   ],
   "source": [
    "# Drop duplicates and reset index for each DataFrame.\n",
    "# There may be overlap in the FourSquare DataFrame, so I want to ignore the custom category column:\n",
    "fsq_df = fsq_df.drop_duplicates(subset=fsq_df.columns.difference(['fsq_am_cat']))\n",
    "fsq_df = fsq_df.reset_index(drop=True)\n",
    "yelp_df = yelp_df.drop_duplicates()\n",
    "yelp_df = yelp_df.reset_index(drop=True)\n",
    "\n",
    "print(\"Number of unique FourSquare instances = \", fsq_df.shape)\n",
    "print(\"Number of unique Yelp instances = \", yelp_df.shape)"
   ]
  },
  {
   "cell_type": "code",
   "execution_count": 8,
   "metadata": {},
   "outputs": [
    {
     "name": "stdout",
     "output_type": "stream",
     "text": [
      "fsq_id                      0\n",
      "name                        0\n",
      "geocodes.main.latitude      0\n",
      "geocodes.main.longitude     0\n",
      "location.address           21\n",
      "location.country            0\n",
      "location.locality          13\n",
      "location.postcode          67\n",
      "location.region             9\n",
      "fsq_am_cat                  0\n",
      "dtype: int64\n",
      "------------------------\n",
      "id                       0\n",
      "name                     0\n",
      "categories               0\n",
      "rating                   0\n",
      "coordinates.latitude     0\n",
      "coordinates.longitude    0\n",
      "location.address1        3\n",
      "location.city            0\n",
      "location.zip_code        0\n",
      "location.country         0\n",
      "location.state           0\n",
      "dtype: int64\n"
     ]
    }
   ],
   "source": [
    "# Check for NULL/NaN values:\n",
    "print(fsq_df.isnull().sum())\n",
    "print('-' * 24)\n",
    "print(yelp_df.isnull().sum())"
   ]
  },
  {
   "cell_type": "markdown",
   "metadata": {},
   "source": [
    "Not a lot of null values for the datasets, which I am happy with.\n",
    "\n",
    "However, the postal code nulls that are present in the FSQ DataFrame are likely going to be places where there is no sense in having a postal code, such as parks. I need to therefore join on coordinates, if possible."
   ]
  },
  {
   "cell_type": "code",
   "execution_count": 9,
   "metadata": {},
   "outputs": [],
   "source": [
    "# Drop Country and Province indiciators; while FSQ's sometimes uses either \"ON\" or \"Ontario\",\n",
    "# they are all in Ontario Canada.\n",
    "fsq_df.drop(['location.country',\n",
    "              'location.region'\n",
    "             ], axis=1, inplace=True)\n",
    "\n",
    "yelp_df.drop(['location.country',\n",
    "              'location.state'\n",
    "             ], axis=1, inplace=True)"
   ]
  },
  {
   "cell_type": "code",
   "execution_count": 10,
   "metadata": {},
   "outputs": [],
   "source": [
    "# First, rename some columns for consistency's sake:\n",
    "fsq_df = fsq_df.rename(columns={\n",
    "    'geocodes.main.latitude':'latitude', \n",
    "    'geocodes.main.longitude':'longitude',\n",
    "    'location.postcode':'postcode',\n",
    "    'location.locality':'locality',\n",
    "    'location.address':'address',\n",
    "    'id':'fsq_id'\n",
    "    })\n",
    "yelp_df = yelp_df.rename(columns={\n",
    "    'coordinates.latitude':'latitude', \n",
    "    'coordinates.longitude':'longitude',\n",
    "    'location.address1':'address',\n",
    "    'location.city':'locality',\n",
    "    'location.zip_code':'postcode',\n",
    "    'id':'yelp_id'\n",
    "    })\n",
    "\n",
    "# Also add prefixes to IDs, so that where they came from can be identified.\n",
    "fsq_df['fsq_id'] = 'fq-' + fsq_df['fsq_id'].astype(str)\n",
    "yelp_df['yelp_id'] = 'yp-' + yelp_df['yelp_id'].astype(str)"
   ]
  },
  {
   "cell_type": "code",
   "execution_count": 35,
   "metadata": {
    "scrolled": true
   },
   "outputs": [
    {
     "ename": "MergeError",
     "evalue": "can only asof on a key for left",
     "output_type": "error",
     "traceback": [
      "\u001b[1;31m---------------------------------------------------------------------------\u001b[0m",
      "\u001b[1;31mMergeError\u001b[0m                                Traceback (most recent call last)",
      "Cell \u001b[1;32mIn[35], line 10\u001b[0m\n\u001b[0;32m      6\u001b[0m yelp_df2 \u001b[38;5;241m=\u001b[39m yelp_df\u001b[38;5;241m.\u001b[39msort_values([\u001b[38;5;124m'\u001b[39m\u001b[38;5;124mlatitude\u001b[39m\u001b[38;5;124m'\u001b[39m,\u001b[38;5;124m'\u001b[39m\u001b[38;5;124mlongitude\u001b[39m\u001b[38;5;124m'\u001b[39m])\u001b[38;5;241m.\u001b[39mcopy()\n\u001b[0;32m      7\u001b[0m \u001b[38;5;66;03m# yelp_df2['latitude'] = ((yelp_df2['latitude']*1000).astype(int).astype(float))/1000\u001b[39;00m\n\u001b[0;32m      8\u001b[0m \u001b[38;5;66;03m# yelp_df2['longitude'] = ((yelp_df2['longitude']*1000).astype(int).astype(float))/1000\u001b[39;00m\n\u001b[1;32m---> 10\u001b[0m joint_query_df \u001b[38;5;241m=\u001b[39m \u001b[43mpd\u001b[49m\u001b[38;5;241;43m.\u001b[39;49m\u001b[43mmerge_asof\u001b[49m\u001b[43m(\u001b[49m\n\u001b[0;32m     11\u001b[0m \u001b[43m    \u001b[49m\u001b[43mfsq_df2\u001b[49m\u001b[43m,\u001b[49m\n\u001b[0;32m     12\u001b[0m \u001b[43m    \u001b[49m\u001b[43myelp_df2\u001b[49m\u001b[43m,\u001b[49m\n\u001b[0;32m     13\u001b[0m \u001b[43m    \u001b[49m\u001b[43mon\u001b[49m\u001b[38;5;241;43m=\u001b[39;49m\u001b[43m[\u001b[49m\u001b[38;5;124;43m'\u001b[39;49m\u001b[38;5;124;43mlatitude\u001b[39;49m\u001b[38;5;124;43m'\u001b[39;49m\u001b[43m,\u001b[49m\u001b[43m \u001b[49m\u001b[38;5;124;43m'\u001b[39;49m\u001b[38;5;124;43mlongitude\u001b[39;49m\u001b[38;5;124;43m'\u001b[39;49m\u001b[43m]\u001b[49m\u001b[43m,\u001b[49m\n\u001b[0;32m     14\u001b[0m \u001b[43m    \u001b[49m\u001b[43mdirection\u001b[49m\u001b[38;5;241;43m=\u001b[39;49m\u001b[38;5;124;43m\"\u001b[39;49m\u001b[38;5;124;43mnearest\u001b[39;49m\u001b[38;5;124;43m\"\u001b[39;49m\u001b[43m)\u001b[49m\n\u001b[0;32m     17\u001b[0m \u001b[38;5;66;03m# Join DataFrames:\u001b[39;00m\n\u001b[0;32m     18\u001b[0m \u001b[38;5;66;03m# joint_query_df = fsq_df2.merge(yelp_df2, how='inner', on=['latitude','longitude'])\u001b[39;00m\n\u001b[0;32m     19\u001b[0m joint_duplicates_df \u001b[38;5;241m=\u001b[39m joint_query_df[joint_query_df\u001b[38;5;241m.\u001b[39mduplicated()]\n",
      "File \u001b[1;32m~\\anaconda3\\lib\\site-packages\\pandas\\core\\reshape\\merge.py:583\u001b[0m, in \u001b[0;36mmerge_asof\u001b[1;34m(left, right, on, left_on, right_on, left_index, right_index, by, left_by, right_by, suffixes, tolerance, allow_exact_matches, direction)\u001b[0m\n\u001b[0;32m    328\u001b[0m \u001b[38;5;28;01mdef\u001b[39;00m \u001b[38;5;21mmerge_asof\u001b[39m(\n\u001b[0;32m    329\u001b[0m     left: DataFrame \u001b[38;5;241m|\u001b[39m Series,\n\u001b[0;32m    330\u001b[0m     right: DataFrame \u001b[38;5;241m|\u001b[39m Series,\n\u001b[1;32m   (...)\u001b[0m\n\u001b[0;32m    342\u001b[0m     direction: \u001b[38;5;28mstr\u001b[39m \u001b[38;5;241m=\u001b[39m \u001b[38;5;124m\"\u001b[39m\u001b[38;5;124mbackward\u001b[39m\u001b[38;5;124m\"\u001b[39m,\n\u001b[0;32m    343\u001b[0m ) \u001b[38;5;241m-\u001b[39m\u001b[38;5;241m>\u001b[39m DataFrame:\n\u001b[0;32m    344\u001b[0m     \u001b[38;5;124;03m\"\"\"\u001b[39;00m\n\u001b[0;32m    345\u001b[0m \u001b[38;5;124;03m    Perform a merge by key distance.\u001b[39;00m\n\u001b[0;32m    346\u001b[0m \n\u001b[1;32m   (...)\u001b[0m\n\u001b[0;32m    581\u001b[0m \u001b[38;5;124;03m    4 2016-05-25 13:30:00.048   AAPL   98.00       100     NaN     NaN\u001b[39;00m\n\u001b[0;32m    582\u001b[0m \u001b[38;5;124;03m    \"\"\"\u001b[39;00m\n\u001b[1;32m--> 583\u001b[0m     op \u001b[38;5;241m=\u001b[39m \u001b[43m_AsOfMerge\u001b[49m\u001b[43m(\u001b[49m\n\u001b[0;32m    584\u001b[0m \u001b[43m        \u001b[49m\u001b[43mleft\u001b[49m\u001b[43m,\u001b[49m\n\u001b[0;32m    585\u001b[0m \u001b[43m        \u001b[49m\u001b[43mright\u001b[49m\u001b[43m,\u001b[49m\n\u001b[0;32m    586\u001b[0m \u001b[43m        \u001b[49m\u001b[43mon\u001b[49m\u001b[38;5;241;43m=\u001b[39;49m\u001b[43mon\u001b[49m\u001b[43m,\u001b[49m\n\u001b[0;32m    587\u001b[0m \u001b[43m        \u001b[49m\u001b[43mleft_on\u001b[49m\u001b[38;5;241;43m=\u001b[39;49m\u001b[43mleft_on\u001b[49m\u001b[43m,\u001b[49m\n\u001b[0;32m    588\u001b[0m \u001b[43m        \u001b[49m\u001b[43mright_on\u001b[49m\u001b[38;5;241;43m=\u001b[39;49m\u001b[43mright_on\u001b[49m\u001b[43m,\u001b[49m\n\u001b[0;32m    589\u001b[0m \u001b[43m        \u001b[49m\u001b[43mleft_index\u001b[49m\u001b[38;5;241;43m=\u001b[39;49m\u001b[43mleft_index\u001b[49m\u001b[43m,\u001b[49m\n\u001b[0;32m    590\u001b[0m \u001b[43m        \u001b[49m\u001b[43mright_index\u001b[49m\u001b[38;5;241;43m=\u001b[39;49m\u001b[43mright_index\u001b[49m\u001b[43m,\u001b[49m\n\u001b[0;32m    591\u001b[0m \u001b[43m        \u001b[49m\u001b[43mby\u001b[49m\u001b[38;5;241;43m=\u001b[39;49m\u001b[43mby\u001b[49m\u001b[43m,\u001b[49m\n\u001b[0;32m    592\u001b[0m \u001b[43m        \u001b[49m\u001b[43mleft_by\u001b[49m\u001b[38;5;241;43m=\u001b[39;49m\u001b[43mleft_by\u001b[49m\u001b[43m,\u001b[49m\n\u001b[0;32m    593\u001b[0m \u001b[43m        \u001b[49m\u001b[43mright_by\u001b[49m\u001b[38;5;241;43m=\u001b[39;49m\u001b[43mright_by\u001b[49m\u001b[43m,\u001b[49m\n\u001b[0;32m    594\u001b[0m \u001b[43m        \u001b[49m\u001b[43msuffixes\u001b[49m\u001b[38;5;241;43m=\u001b[39;49m\u001b[43msuffixes\u001b[49m\u001b[43m,\u001b[49m\n\u001b[0;32m    595\u001b[0m \u001b[43m        \u001b[49m\u001b[43mhow\u001b[49m\u001b[38;5;241;43m=\u001b[39;49m\u001b[38;5;124;43m\"\u001b[39;49m\u001b[38;5;124;43masof\u001b[39;49m\u001b[38;5;124;43m\"\u001b[39;49m\u001b[43m,\u001b[49m\n\u001b[0;32m    596\u001b[0m \u001b[43m        \u001b[49m\u001b[43mtolerance\u001b[49m\u001b[38;5;241;43m=\u001b[39;49m\u001b[43mtolerance\u001b[49m\u001b[43m,\u001b[49m\n\u001b[0;32m    597\u001b[0m \u001b[43m        \u001b[49m\u001b[43mallow_exact_matches\u001b[49m\u001b[38;5;241;43m=\u001b[39;49m\u001b[43mallow_exact_matches\u001b[49m\u001b[43m,\u001b[49m\n\u001b[0;32m    598\u001b[0m \u001b[43m        \u001b[49m\u001b[43mdirection\u001b[49m\u001b[38;5;241;43m=\u001b[39;49m\u001b[43mdirection\u001b[49m\u001b[43m,\u001b[49m\n\u001b[0;32m    599\u001b[0m \u001b[43m    \u001b[49m\u001b[43m)\u001b[49m\n\u001b[0;32m    600\u001b[0m     \u001b[38;5;28;01mreturn\u001b[39;00m op\u001b[38;5;241m.\u001b[39mget_result()\n",
      "File \u001b[1;32m~\\anaconda3\\lib\\site-packages\\pandas\\core\\reshape\\merge.py:1825\u001b[0m, in \u001b[0;36m_AsOfMerge.__init__\u001b[1;34m(self, left, right, on, left_on, right_on, left_index, right_index, by, left_by, right_by, axis, suffixes, copy, fill_method, how, tolerance, allow_exact_matches, direction)\u001b[0m\n\u001b[0;32m   1822\u001b[0m \u001b[38;5;28mself\u001b[39m\u001b[38;5;241m.\u001b[39mallow_exact_matches \u001b[38;5;241m=\u001b[39m allow_exact_matches\n\u001b[0;32m   1823\u001b[0m \u001b[38;5;28mself\u001b[39m\u001b[38;5;241m.\u001b[39mdirection \u001b[38;5;241m=\u001b[39m direction\n\u001b[1;32m-> 1825\u001b[0m \u001b[43m_OrderedMerge\u001b[49m\u001b[38;5;241;43m.\u001b[39;49m\u001b[38;5;21;43m__init__\u001b[39;49m\u001b[43m(\u001b[49m\n\u001b[0;32m   1826\u001b[0m \u001b[43m    \u001b[49m\u001b[38;5;28;43mself\u001b[39;49m\u001b[43m,\u001b[49m\n\u001b[0;32m   1827\u001b[0m \u001b[43m    \u001b[49m\u001b[43mleft\u001b[49m\u001b[43m,\u001b[49m\n\u001b[0;32m   1828\u001b[0m \u001b[43m    \u001b[49m\u001b[43mright\u001b[49m\u001b[43m,\u001b[49m\n\u001b[0;32m   1829\u001b[0m \u001b[43m    \u001b[49m\u001b[43mon\u001b[49m\u001b[38;5;241;43m=\u001b[39;49m\u001b[43mon\u001b[49m\u001b[43m,\u001b[49m\n\u001b[0;32m   1830\u001b[0m \u001b[43m    \u001b[49m\u001b[43mleft_on\u001b[49m\u001b[38;5;241;43m=\u001b[39;49m\u001b[43mleft_on\u001b[49m\u001b[43m,\u001b[49m\n\u001b[0;32m   1831\u001b[0m \u001b[43m    \u001b[49m\u001b[43mright_on\u001b[49m\u001b[38;5;241;43m=\u001b[39;49m\u001b[43mright_on\u001b[49m\u001b[43m,\u001b[49m\n\u001b[0;32m   1832\u001b[0m \u001b[43m    \u001b[49m\u001b[43mleft_index\u001b[49m\u001b[38;5;241;43m=\u001b[39;49m\u001b[43mleft_index\u001b[49m\u001b[43m,\u001b[49m\n\u001b[0;32m   1833\u001b[0m \u001b[43m    \u001b[49m\u001b[43mright_index\u001b[49m\u001b[38;5;241;43m=\u001b[39;49m\u001b[43mright_index\u001b[49m\u001b[43m,\u001b[49m\n\u001b[0;32m   1834\u001b[0m \u001b[43m    \u001b[49m\u001b[43maxis\u001b[49m\u001b[38;5;241;43m=\u001b[39;49m\u001b[43maxis\u001b[49m\u001b[43m,\u001b[49m\n\u001b[0;32m   1835\u001b[0m \u001b[43m    \u001b[49m\u001b[43mhow\u001b[49m\u001b[38;5;241;43m=\u001b[39;49m\u001b[43mhow\u001b[49m\u001b[43m,\u001b[49m\n\u001b[0;32m   1836\u001b[0m \u001b[43m    \u001b[49m\u001b[43msuffixes\u001b[49m\u001b[38;5;241;43m=\u001b[39;49m\u001b[43msuffixes\u001b[49m\u001b[43m,\u001b[49m\n\u001b[0;32m   1837\u001b[0m \u001b[43m    \u001b[49m\u001b[43mfill_method\u001b[49m\u001b[38;5;241;43m=\u001b[39;49m\u001b[43mfill_method\u001b[49m\u001b[43m,\u001b[49m\n\u001b[0;32m   1838\u001b[0m \u001b[43m\u001b[49m\u001b[43m)\u001b[49m\n",
      "File \u001b[1;32m~\\anaconda3\\lib\\site-packages\\pandas\\core\\reshape\\merge.py:1726\u001b[0m, in \u001b[0;36m_OrderedMerge.__init__\u001b[1;34m(self, left, right, on, left_on, right_on, left_index, right_index, axis, suffixes, fill_method, how)\u001b[0m\n\u001b[0;32m   1710\u001b[0m \u001b[38;5;28;01mdef\u001b[39;00m \u001b[38;5;21m__init__\u001b[39m(\n\u001b[0;32m   1711\u001b[0m     \u001b[38;5;28mself\u001b[39m,\n\u001b[0;32m   1712\u001b[0m     left: DataFrame \u001b[38;5;241m|\u001b[39m Series,\n\u001b[1;32m   (...)\u001b[0m\n\u001b[0;32m   1722\u001b[0m     how: \u001b[38;5;28mstr\u001b[39m \u001b[38;5;241m=\u001b[39m \u001b[38;5;124m\"\u001b[39m\u001b[38;5;124mouter\u001b[39m\u001b[38;5;124m\"\u001b[39m,\n\u001b[0;32m   1723\u001b[0m ) \u001b[38;5;241m-\u001b[39m\u001b[38;5;241m>\u001b[39m \u001b[38;5;28;01mNone\u001b[39;00m:\n\u001b[0;32m   1725\u001b[0m     \u001b[38;5;28mself\u001b[39m\u001b[38;5;241m.\u001b[39mfill_method \u001b[38;5;241m=\u001b[39m fill_method\n\u001b[1;32m-> 1726\u001b[0m     \u001b[43m_MergeOperation\u001b[49m\u001b[38;5;241;43m.\u001b[39;49m\u001b[38;5;21;43m__init__\u001b[39;49m\u001b[43m(\u001b[49m\n\u001b[0;32m   1727\u001b[0m \u001b[43m        \u001b[49m\u001b[38;5;28;43mself\u001b[39;49m\u001b[43m,\u001b[49m\n\u001b[0;32m   1728\u001b[0m \u001b[43m        \u001b[49m\u001b[43mleft\u001b[49m\u001b[43m,\u001b[49m\n\u001b[0;32m   1729\u001b[0m \u001b[43m        \u001b[49m\u001b[43mright\u001b[49m\u001b[43m,\u001b[49m\n\u001b[0;32m   1730\u001b[0m \u001b[43m        \u001b[49m\u001b[43mon\u001b[49m\u001b[38;5;241;43m=\u001b[39;49m\u001b[43mon\u001b[49m\u001b[43m,\u001b[49m\n\u001b[0;32m   1731\u001b[0m \u001b[43m        \u001b[49m\u001b[43mleft_on\u001b[49m\u001b[38;5;241;43m=\u001b[39;49m\u001b[43mleft_on\u001b[49m\u001b[43m,\u001b[49m\n\u001b[0;32m   1732\u001b[0m \u001b[43m        \u001b[49m\u001b[43mleft_index\u001b[49m\u001b[38;5;241;43m=\u001b[39;49m\u001b[43mleft_index\u001b[49m\u001b[43m,\u001b[49m\n\u001b[0;32m   1733\u001b[0m \u001b[43m        \u001b[49m\u001b[43mright_index\u001b[49m\u001b[38;5;241;43m=\u001b[39;49m\u001b[43mright_index\u001b[49m\u001b[43m,\u001b[49m\n\u001b[0;32m   1734\u001b[0m \u001b[43m        \u001b[49m\u001b[43mright_on\u001b[49m\u001b[38;5;241;43m=\u001b[39;49m\u001b[43mright_on\u001b[49m\u001b[43m,\u001b[49m\n\u001b[0;32m   1735\u001b[0m \u001b[43m        \u001b[49m\u001b[43maxis\u001b[49m\u001b[38;5;241;43m=\u001b[39;49m\u001b[43maxis\u001b[49m\u001b[43m,\u001b[49m\n\u001b[0;32m   1736\u001b[0m \u001b[43m        \u001b[49m\u001b[43mhow\u001b[49m\u001b[38;5;241;43m=\u001b[39;49m\u001b[43mhow\u001b[49m\u001b[43m,\u001b[49m\n\u001b[0;32m   1737\u001b[0m \u001b[43m        \u001b[49m\u001b[43msuffixes\u001b[49m\u001b[38;5;241;43m=\u001b[39;49m\u001b[43msuffixes\u001b[49m\u001b[43m,\u001b[49m\n\u001b[0;32m   1738\u001b[0m \u001b[43m        \u001b[49m\u001b[43msort\u001b[49m\u001b[38;5;241;43m=\u001b[39;49m\u001b[38;5;28;43;01mTrue\u001b[39;49;00m\u001b[43m,\u001b[49m\u001b[43m  \u001b[49m\u001b[38;5;66;43;03m# factorize sorts\u001b[39;49;00m\n\u001b[0;32m   1739\u001b[0m \u001b[43m    \u001b[49m\u001b[43m)\u001b[49m\n",
      "File \u001b[1;32m~\\anaconda3\\lib\\site-packages\\pandas\\core\\reshape\\merge.py:685\u001b[0m, in \u001b[0;36m_MergeOperation.__init__\u001b[1;34m(self, left, right, how, on, left_on, right_on, axis, left_index, right_index, sort, suffixes, indicator, validate)\u001b[0m\n\u001b[0;32m    681\u001b[0m     \u001b[38;5;66;03m# stacklevel chosen to be correct when this is reached via pd.merge\u001b[39;00m\n\u001b[0;32m    682\u001b[0m     \u001b[38;5;66;03m# (and not DataFrame.join)\u001b[39;00m\n\u001b[0;32m    683\u001b[0m     warnings\u001b[38;5;241m.\u001b[39mwarn(msg, \u001b[38;5;167;01mFutureWarning\u001b[39;00m, stacklevel\u001b[38;5;241m=\u001b[39mfind_stack_level())\n\u001b[1;32m--> 685\u001b[0m \u001b[38;5;28mself\u001b[39m\u001b[38;5;241m.\u001b[39mleft_on, \u001b[38;5;28mself\u001b[39m\u001b[38;5;241m.\u001b[39mright_on \u001b[38;5;241m=\u001b[39m \u001b[38;5;28;43mself\u001b[39;49m\u001b[38;5;241;43m.\u001b[39;49m\u001b[43m_validate_left_right_on\u001b[49m\u001b[43m(\u001b[49m\u001b[43mleft_on\u001b[49m\u001b[43m,\u001b[49m\u001b[43m \u001b[49m\u001b[43mright_on\u001b[49m\u001b[43m)\u001b[49m\n\u001b[0;32m    687\u001b[0m cross_col \u001b[38;5;241m=\u001b[39m \u001b[38;5;28;01mNone\u001b[39;00m\n\u001b[0;32m    688\u001b[0m \u001b[38;5;28;01mif\u001b[39;00m \u001b[38;5;28mself\u001b[39m\u001b[38;5;241m.\u001b[39mhow \u001b[38;5;241m==\u001b[39m \u001b[38;5;124m\"\u001b[39m\u001b[38;5;124mcross\u001b[39m\u001b[38;5;124m\"\u001b[39m:\n",
      "File \u001b[1;32m~\\anaconda3\\lib\\site-packages\\pandas\\core\\reshape\\merge.py:1845\u001b[0m, in \u001b[0;36m_AsOfMerge._validate_left_right_on\u001b[1;34m(self, left_on, right_on)\u001b[0m\n\u001b[0;32m   1843\u001b[0m \u001b[38;5;66;03m# we only allow on to be a single item for on\u001b[39;00m\n\u001b[0;32m   1844\u001b[0m \u001b[38;5;28;01mif\u001b[39;00m \u001b[38;5;28mlen\u001b[39m(left_on) \u001b[38;5;241m!=\u001b[39m \u001b[38;5;241m1\u001b[39m \u001b[38;5;129;01mand\u001b[39;00m \u001b[38;5;129;01mnot\u001b[39;00m \u001b[38;5;28mself\u001b[39m\u001b[38;5;241m.\u001b[39mleft_index:\n\u001b[1;32m-> 1845\u001b[0m     \u001b[38;5;28;01mraise\u001b[39;00m MergeError(\u001b[38;5;124m\"\u001b[39m\u001b[38;5;124mcan only asof on a key for left\u001b[39m\u001b[38;5;124m\"\u001b[39m)\n\u001b[0;32m   1847\u001b[0m \u001b[38;5;28;01mif\u001b[39;00m \u001b[38;5;28mlen\u001b[39m(right_on) \u001b[38;5;241m!=\u001b[39m \u001b[38;5;241m1\u001b[39m \u001b[38;5;129;01mand\u001b[39;00m \u001b[38;5;129;01mnot\u001b[39;00m \u001b[38;5;28mself\u001b[39m\u001b[38;5;241m.\u001b[39mright_index:\n\u001b[0;32m   1848\u001b[0m     \u001b[38;5;28;01mraise\u001b[39;00m MergeError(\u001b[38;5;124m\"\u001b[39m\u001b[38;5;124mcan only asof on a key for right\u001b[39m\u001b[38;5;124m\"\u001b[39m)\n",
      "\u001b[1;31mMergeError\u001b[0m: can only asof on a key for left"
     ]
    }
   ],
   "source": [
    "# Truncate Coordinates in clones DataFrames, to avoid issue where coordinates are not identical\n",
    "# between tilesets (to three decimal points):\n",
    "fsq_df2 = fsq_df.sort_values(['latitude','longitude']).copy()\n",
    "# fsq_df2['latitude'] = ((fsq_df2['latitude']*1000).astype(int).astype(float))/1000\n",
    "# fsq_df2['longitude'] = ((fsq_df2['longitude']*1000).astype(int).astype(float))/1000\n",
    "yelp_df2 = yelp_df.sort_values(['latitude','longitude']).copy()\n",
    "# yelp_df2['latitude'] = ((yelp_df2['latitude']*1000).astype(int).astype(float))/1000\n",
    "# yelp_df2['longitude'] = ((yelp_df2['longitude']*1000).astype(int).astype(float))/1000\n",
    "\n",
    "joint_query_df = pd.merge_asof(\n",
    "    fsq_df2,\n",
    "    yelp_df2,\n",
    "    by=['latitude', 'longitude'],\n",
    "    \n",
    "    direction=\"nearest\")\n",
    "\n",
    "\n",
    "# Join DataFrames:\n",
    "# joint_query_df = fsq_df2.merge(yelp_df2, how='inner', on=['latitude','longitude'])\n",
    "joint_duplicates_df = joint_query_df[joint_query_df.duplicated()]\n",
    "print(\"Joined entry shape: \", joint_query_df.shape)\n",
    "print(\"Number of rows x columns: \", joint_duplicates_df.shape)"
   ]
  },
  {
   "cell_type": "code",
   "execution_count": 39,
   "metadata": {},
   "outputs": [
    {
     "data": {
      "text/html": [
       "<div>\n",
       "<style scoped>\n",
       "    .dataframe tbody tr th:only-of-type {\n",
       "        vertical-align: middle;\n",
       "    }\n",
       "\n",
       "    .dataframe tbody tr th {\n",
       "        vertical-align: top;\n",
       "    }\n",
       "\n",
       "    .dataframe thead th {\n",
       "        text-align: right;\n",
       "    }\n",
       "</style>\n",
       "<table border=\"1\" class=\"dataframe\">\n",
       "  <thead>\n",
       "    <tr style=\"text-align: right;\">\n",
       "      <th></th>\n",
       "      <th>id</th>\n",
       "      <th>latitude</th>\n",
       "      <th>longitude</th>\n",
       "      <th>name</th>\n",
       "      <th>est_bike_slots</th>\n",
       "    </tr>\n",
       "  </thead>\n",
       "  <tbody>\n",
       "    <tr>\n",
       "      <th>0</th>\n",
       "      <td>45dbb0009135e465f49f054517cbe74d</td>\n",
       "      <td>43.259126</td>\n",
       "      <td>-79.877212</td>\n",
       "      <td>hess at king</td>\n",
       "      <td>12</td>\n",
       "    </tr>\n",
       "    <tr>\n",
       "      <th>1</th>\n",
       "      <td>cd881edad122a75c57d94b381cdfc6c0</td>\n",
       "      <td>43.269288</td>\n",
       "      <td>-79.871327</td>\n",
       "      <td>bayfront park</td>\n",
       "      <td>28</td>\n",
       "    </tr>\n",
       "    <tr>\n",
       "      <th>2</th>\n",
       "      <td>024a3edf037cb411d16acc08a7fcb954</td>\n",
       "      <td>43.267859</td>\n",
       "      <td>-79.867923</td>\n",
       "      <td>bay at strachan</td>\n",
       "      <td>25</td>\n",
       "    </tr>\n",
       "    <tr>\n",
       "      <th>3</th>\n",
       "      <td>b933317ff2861c45aacbea4cbf4b541f</td>\n",
       "      <td>43.263198</td>\n",
       "      <td>-79.871803</td>\n",
       "      <td>bay at mulberry</td>\n",
       "      <td>14</td>\n",
       "    </tr>\n",
       "    <tr>\n",
       "      <th>4</th>\n",
       "      <td>20dc109608315db09a8332d6e6940c75</td>\n",
       "      <td>43.256132</td>\n",
       "      <td>-79.874499</td>\n",
       "      <td>city hall</td>\n",
       "      <td>16</td>\n",
       "    </tr>\n",
       "  </tbody>\n",
       "</table>\n",
       "</div>"
      ],
      "text/plain": [
       "                                 id   latitude  longitude             name  \\\n",
       "0  45dbb0009135e465f49f054517cbe74d  43.259126 -79.877212     hess at king   \n",
       "1  cd881edad122a75c57d94b381cdfc6c0  43.269288 -79.871327    bayfront park   \n",
       "2  024a3edf037cb411d16acc08a7fcb954  43.267859 -79.867923  bay at strachan   \n",
       "3  b933317ff2861c45aacbea4cbf4b541f  43.263198 -79.871803  bay at mulberry   \n",
       "4  20dc109608315db09a8332d6e6940c75  43.256132 -79.874499        city hall   \n",
       "\n",
       "   est_bike_slots  \n",
       "0              12  \n",
       "1              28  \n",
       "2              25  \n",
       "3              14  \n",
       "4              16  "
      ]
     },
     "execution_count": 39,
     "metadata": {},
     "output_type": "execute_result"
    }
   ],
   "source": [
    "stations_df.head()"
   ]
  },
  {
   "cell_type": "code",
   "execution_count": 23,
   "metadata": {},
   "outputs": [
    {
     "data": {
      "text/html": [
       "<div>\n",
       "<style scoped>\n",
       "    .dataframe tbody tr th:only-of-type {\n",
       "        vertical-align: middle;\n",
       "    }\n",
       "\n",
       "    .dataframe tbody tr th {\n",
       "        vertical-align: top;\n",
       "    }\n",
       "\n",
       "    .dataframe thead th {\n",
       "        text-align: right;\n",
       "    }\n",
       "</style>\n",
       "<table border=\"1\" class=\"dataframe\">\n",
       "  <thead>\n",
       "    <tr style=\"text-align: right;\">\n",
       "      <th></th>\n",
       "      <th>fsq_id</th>\n",
       "      <th>name_x</th>\n",
       "      <th>latitude</th>\n",
       "      <th>longitude</th>\n",
       "      <th>address_x</th>\n",
       "      <th>locality_x</th>\n",
       "      <th>postcode_x</th>\n",
       "      <th>fsq_am_cat</th>\n",
       "      <th>yelp_id</th>\n",
       "      <th>name_y</th>\n",
       "      <th>categories</th>\n",
       "      <th>rating</th>\n",
       "      <th>address_y</th>\n",
       "      <th>locality_y</th>\n",
       "      <th>postcode_y</th>\n",
       "    </tr>\n",
       "  </thead>\n",
       "  <tbody>\n",
       "    <tr>\n",
       "      <th>944</th>\n",
       "      <td>fq-5a1ca65328122f744774159c</td>\n",
       "      <td>your neighbourhood bar and grill</td>\n",
       "      <td>43.238</td>\n",
       "      <td>-79.842</td>\n",
       "      <td>794 Concession St</td>\n",
       "      <td>Hamilton</td>\n",
       "      <td>L8V 1C9</td>\n",
       "      <td>1.1</td>\n",
       "      <td>yp-DVJ6ZbgTx47SVoIojBSoSA</td>\n",
       "      <td>pita pit</td>\n",
       "      <td>[{'alias': 'sandwiches', 'title': 'Sandwiches'}]</td>\n",
       "      <td>1.0</td>\n",
       "      <td>798 Concession Street</td>\n",
       "      <td>Hamilton</td>\n",
       "      <td>L8V 3T1</td>\n",
       "    </tr>\n",
       "    <tr>\n",
       "      <th>945</th>\n",
       "      <td>fq-5a1ca65328122f744774159c</td>\n",
       "      <td>your neighbourhood bar and grill</td>\n",
       "      <td>43.238</td>\n",
       "      <td>-79.842</td>\n",
       "      <td>794 Concession St</td>\n",
       "      <td>Hamilton</td>\n",
       "      <td>L8V 1C9</td>\n",
       "      <td>1.1</td>\n",
       "      <td>yp-7c9-zk3W1d6dMStojoEaRw</td>\n",
       "      <td>pagoda chop suey house</td>\n",
       "      <td>[{'alias': 'chinese', 'title': 'Chinese'}]</td>\n",
       "      <td>2.5</td>\n",
       "      <td>792 Concession Street</td>\n",
       "      <td>Hamilton</td>\n",
       "      <td>L8V 1C9</td>\n",
       "    </tr>\n",
       "    <tr>\n",
       "      <th>946</th>\n",
       "      <td>fq-5a1ca65328122f744774159c</td>\n",
       "      <td>your neighbourhood bar and grill</td>\n",
       "      <td>43.238</td>\n",
       "      <td>-79.842</td>\n",
       "      <td>794 Concession St</td>\n",
       "      <td>Hamilton</td>\n",
       "      <td>L8V 1C9</td>\n",
       "      <td>1.1</td>\n",
       "      <td>yp-skB2XhsDfWsA8nX2UkLFXg</td>\n",
       "      <td>gina's place</td>\n",
       "      <td>[{'alias': 'pizza', 'title': 'Pizza'}]</td>\n",
       "      <td>4.0</td>\n",
       "      <td>798 Concession Street</td>\n",
       "      <td>Hamilton</td>\n",
       "      <td>L8V 1C9</td>\n",
       "    </tr>\n",
       "    <tr>\n",
       "      <th>947</th>\n",
       "      <td>fq-5a1ca65328122f744774159c</td>\n",
       "      <td>your neighbourhood bar and grill</td>\n",
       "      <td>43.238</td>\n",
       "      <td>-79.842</td>\n",
       "      <td>794 Concession St</td>\n",
       "      <td>Hamilton</td>\n",
       "      <td>L8V 1C9</td>\n",
       "      <td>1.1</td>\n",
       "      <td>yp-pQhMKWalJXKtyLMIgwPxAw</td>\n",
       "      <td>my neighbourhood bar and grill</td>\n",
       "      <td>[{'alias': 'pubs', 'title': 'Pubs'}]</td>\n",
       "      <td>1.0</td>\n",
       "      <td>794 Concession Street</td>\n",
       "      <td>Hamilton</td>\n",
       "      <td>L8V 1C9</td>\n",
       "    </tr>\n",
       "    <tr>\n",
       "      <th>948</th>\n",
       "      <td>fq-42bc5cd295eb4b34b60166e2</td>\n",
       "      <td>crumbuns bakeshop</td>\n",
       "      <td>43.238</td>\n",
       "      <td>-79.842</td>\n",
       "      <td>566 Concession St</td>\n",
       "      <td>Hamilton</td>\n",
       "      <td>L8V 1B1</td>\n",
       "      <td>1.1</td>\n",
       "      <td>yp-DVJ6ZbgTx47SVoIojBSoSA</td>\n",
       "      <td>pita pit</td>\n",
       "      <td>[{'alias': 'sandwiches', 'title': 'Sandwiches'}]</td>\n",
       "      <td>1.0</td>\n",
       "      <td>798 Concession Street</td>\n",
       "      <td>Hamilton</td>\n",
       "      <td>L8V 3T1</td>\n",
       "    </tr>\n",
       "    <tr>\n",
       "      <th>...</th>\n",
       "      <td>...</td>\n",
       "      <td>...</td>\n",
       "      <td>...</td>\n",
       "      <td>...</td>\n",
       "      <td>...</td>\n",
       "      <td>...</td>\n",
       "      <td>...</td>\n",
       "      <td>...</td>\n",
       "      <td>...</td>\n",
       "      <td>...</td>\n",
       "      <td>...</td>\n",
       "      <td>...</td>\n",
       "      <td>...</td>\n",
       "      <td>...</td>\n",
       "      <td>...</td>\n",
       "    </tr>\n",
       "    <tr>\n",
       "      <th>912</th>\n",
       "      <td>fq-4cc096adaa5776b0366e7544</td>\n",
       "      <td>williams fresh cafe</td>\n",
       "      <td>43.276</td>\n",
       "      <td>-79.860</td>\n",
       "      <td>47 Discovery Dr</td>\n",
       "      <td>Hamilton</td>\n",
       "      <td>L8L 8B4</td>\n",
       "      <td>1.1</td>\n",
       "      <td>yp-7OHsJC5yFpdCaBsAX_jlFQ</td>\n",
       "      <td>william's cafe</td>\n",
       "      <td>[{'alias': 'cafes', 'title': 'Cafes'}]</td>\n",
       "      <td>2.5</td>\n",
       "      <td>57 Discovery Drive</td>\n",
       "      <td>Hamilton</td>\n",
       "      <td>L8L 8B4</td>\n",
       "    </tr>\n",
       "    <tr>\n",
       "      <th>913</th>\n",
       "      <td>fq-501fec63e4b0373b155899ca</td>\n",
       "      <td>pier 8</td>\n",
       "      <td>43.276</td>\n",
       "      <td>-79.860</td>\n",
       "      <td>NaN</td>\n",
       "      <td>Hamilton</td>\n",
       "      <td>NaN</td>\n",
       "      <td>0.0</td>\n",
       "      <td>yp-iIpLGj-seyOgfOEtJMZlhQ</td>\n",
       "      <td>williams fresh cafe</td>\n",
       "      <td>[{'alias': 'cafes', 'title': 'Cafes'}, {'alias...</td>\n",
       "      <td>3.0</td>\n",
       "      <td>47 Discovery Drive</td>\n",
       "      <td>Hamilton</td>\n",
       "      <td>L8L 8K4</td>\n",
       "    </tr>\n",
       "    <tr>\n",
       "      <th>914</th>\n",
       "      <td>fq-501fec63e4b0373b155899ca</td>\n",
       "      <td>pier 8</td>\n",
       "      <td>43.276</td>\n",
       "      <td>-79.860</td>\n",
       "      <td>NaN</td>\n",
       "      <td>Hamilton</td>\n",
       "      <td>NaN</td>\n",
       "      <td>0.0</td>\n",
       "      <td>yp-7OHsJC5yFpdCaBsAX_jlFQ</td>\n",
       "      <td>william's cafe</td>\n",
       "      <td>[{'alias': 'cafes', 'title': 'Cafes'}]</td>\n",
       "      <td>2.5</td>\n",
       "      <td>57 Discovery Drive</td>\n",
       "      <td>Hamilton</td>\n",
       "      <td>L8L 8B4</td>\n",
       "    </tr>\n",
       "    <tr>\n",
       "      <th>992</th>\n",
       "      <td>fq-5be5156e79f6c7002ce725f4</td>\n",
       "      <td>tim hortons</td>\n",
       "      <td>43.291</td>\n",
       "      <td>-79.880</td>\n",
       "      <td>1134 Plains Rd W</td>\n",
       "      <td>Burlington</td>\n",
       "      <td>L7T 1H3</td>\n",
       "      <td>1.1</td>\n",
       "      <td>yp--u30CMh-ZgpOjBI25F7CZg</td>\n",
       "      <td>rose garden family restaurant</td>\n",
       "      <td>[{'alias': 'tradamerican', 'title': 'American ...</td>\n",
       "      <td>4.0</td>\n",
       "      <td>1124 Plains Road W</td>\n",
       "      <td>Burlington</td>\n",
       "      <td>L7T 1H3</td>\n",
       "    </tr>\n",
       "    <tr>\n",
       "      <th>993</th>\n",
       "      <td>fq-51294e21e4b0691891d0c0ee</td>\n",
       "      <td>rose garden family restaurant</td>\n",
       "      <td>43.291</td>\n",
       "      <td>-79.880</td>\n",
       "      <td>1124 Plains Rd W</td>\n",
       "      <td>Burlington</td>\n",
       "      <td>L7T 1H3</td>\n",
       "      <td>1.1</td>\n",
       "      <td>yp--u30CMh-ZgpOjBI25F7CZg</td>\n",
       "      <td>rose garden family restaurant</td>\n",
       "      <td>[{'alias': 'tradamerican', 'title': 'American ...</td>\n",
       "      <td>4.0</td>\n",
       "      <td>1124 Plains Road W</td>\n",
       "      <td>Burlington</td>\n",
       "      <td>L7T 1H3</td>\n",
       "    </tr>\n",
       "  </tbody>\n",
       "</table>\n",
       "<p>1055 rows × 15 columns</p>\n",
       "</div>"
      ],
      "text/plain": [
       "                          fsq_id                            name_x  latitude  \\\n",
       "944  fq-5a1ca65328122f744774159c  your neighbourhood bar and grill    43.238   \n",
       "945  fq-5a1ca65328122f744774159c  your neighbourhood bar and grill    43.238   \n",
       "946  fq-5a1ca65328122f744774159c  your neighbourhood bar and grill    43.238   \n",
       "947  fq-5a1ca65328122f744774159c  your neighbourhood bar and grill    43.238   \n",
       "948  fq-42bc5cd295eb4b34b60166e2                 crumbuns bakeshop    43.238   \n",
       "..                           ...                               ...       ...   \n",
       "912  fq-4cc096adaa5776b0366e7544               williams fresh cafe    43.276   \n",
       "913  fq-501fec63e4b0373b155899ca                            pier 8    43.276   \n",
       "914  fq-501fec63e4b0373b155899ca                            pier 8    43.276   \n",
       "992  fq-5be5156e79f6c7002ce725f4                       tim hortons    43.291   \n",
       "993  fq-51294e21e4b0691891d0c0ee     rose garden family restaurant    43.291   \n",
       "\n",
       "     longitude          address_x  locality_x postcode_x  fsq_am_cat  \\\n",
       "944    -79.842  794 Concession St    Hamilton    L8V 1C9         1.1   \n",
       "945    -79.842  794 Concession St    Hamilton    L8V 1C9         1.1   \n",
       "946    -79.842  794 Concession St    Hamilton    L8V 1C9         1.1   \n",
       "947    -79.842  794 Concession St    Hamilton    L8V 1C9         1.1   \n",
       "948    -79.842  566 Concession St    Hamilton    L8V 1B1         1.1   \n",
       "..         ...                ...         ...        ...         ...   \n",
       "912    -79.860    47 Discovery Dr    Hamilton    L8L 8B4         1.1   \n",
       "913    -79.860                NaN    Hamilton        NaN         0.0   \n",
       "914    -79.860                NaN    Hamilton        NaN         0.0   \n",
       "992    -79.880   1134 Plains Rd W  Burlington    L7T 1H3         1.1   \n",
       "993    -79.880   1124 Plains Rd W  Burlington    L7T 1H3         1.1   \n",
       "\n",
       "                       yelp_id                          name_y  \\\n",
       "944  yp-DVJ6ZbgTx47SVoIojBSoSA                        pita pit   \n",
       "945  yp-7c9-zk3W1d6dMStojoEaRw          pagoda chop suey house   \n",
       "946  yp-skB2XhsDfWsA8nX2UkLFXg                    gina's place   \n",
       "947  yp-pQhMKWalJXKtyLMIgwPxAw  my neighbourhood bar and grill   \n",
       "948  yp-DVJ6ZbgTx47SVoIojBSoSA                        pita pit   \n",
       "..                         ...                             ...   \n",
       "912  yp-7OHsJC5yFpdCaBsAX_jlFQ                  william's cafe   \n",
       "913  yp-iIpLGj-seyOgfOEtJMZlhQ             williams fresh cafe   \n",
       "914  yp-7OHsJC5yFpdCaBsAX_jlFQ                  william's cafe   \n",
       "992  yp--u30CMh-ZgpOjBI25F7CZg   rose garden family restaurant   \n",
       "993  yp--u30CMh-ZgpOjBI25F7CZg   rose garden family restaurant   \n",
       "\n",
       "                                            categories  rating  \\\n",
       "944   [{'alias': 'sandwiches', 'title': 'Sandwiches'}]     1.0   \n",
       "945         [{'alias': 'chinese', 'title': 'Chinese'}]     2.5   \n",
       "946             [{'alias': 'pizza', 'title': 'Pizza'}]     4.0   \n",
       "947               [{'alias': 'pubs', 'title': 'Pubs'}]     1.0   \n",
       "948   [{'alias': 'sandwiches', 'title': 'Sandwiches'}]     1.0   \n",
       "..                                                 ...     ...   \n",
       "912             [{'alias': 'cafes', 'title': 'Cafes'}]     2.5   \n",
       "913  [{'alias': 'cafes', 'title': 'Cafes'}, {'alias...     3.0   \n",
       "914             [{'alias': 'cafes', 'title': 'Cafes'}]     2.5   \n",
       "992  [{'alias': 'tradamerican', 'title': 'American ...     4.0   \n",
       "993  [{'alias': 'tradamerican', 'title': 'American ...     4.0   \n",
       "\n",
       "                 address_y  locality_y postcode_y  \n",
       "944  798 Concession Street    Hamilton    L8V 3T1  \n",
       "945  792 Concession Street    Hamilton    L8V 1C9  \n",
       "946  798 Concession Street    Hamilton    L8V 1C9  \n",
       "947  794 Concession Street    Hamilton    L8V 1C9  \n",
       "948  798 Concession Street    Hamilton    L8V 3T1  \n",
       "..                     ...         ...        ...  \n",
       "912     57 Discovery Drive    Hamilton    L8L 8B4  \n",
       "913     47 Discovery Drive    Hamilton    L8L 8K4  \n",
       "914     57 Discovery Drive    Hamilton    L8L 8B4  \n",
       "992     1124 Plains Road W  Burlington    L7T 1H3  \n",
       "993     1124 Plains Road W  Burlington    L7T 1H3  \n",
       "\n",
       "[1055 rows x 15 columns]"
      ]
     },
     "execution_count": 23,
     "metadata": {},
     "output_type": "execute_result"
    }
   ],
   "source": [
    "# Lastly, I want to add the closest bike station to every entry.\n",
    "\n",
    "stations_df2 = stations_df.sort_values(['latitude','longitude']).copy()\n",
    "joint_query_df2 = joint_query_df.sort_values(['latitude','longitude']).copy()\n",
    "\n",
    "# pd.merge_asof(\n",
    "    \n",
    "# )\n"
   ]
  },
  {
   "cell_type": "markdown",
   "metadata": {},
   "source": [
    "Provide a visualization that you used as part of your EDA process. Explain the initial pattern or relationship you discoved through this visualization. "
   ]
  },
  {
   "cell_type": "markdown",
   "metadata": {},
   "source": [
    "Starting with a rough overview of my EDA process:\n",
    "1. My central goal is to see if there is a correlation between bike station placement and the number of POIs in their immediate surroundings (e.g. Is there a likelihood of there being a bike station within cycling distance of 10+ grocery stores?).\n",
    "2. I took a cursory look at the kinds of data that were being returned to determine what would be relevant or not. Lots of extra sets of coordinates and other data points that could have been interesting, but provided little relevance to my goal.\n",
    "3. I wanted to see how many of each \"fsq_am_cat\" (FourSquare Amalgamated Category) was present, categorised as such:\n",
    "0.0 = Park\n",
    "0.1 = Bicycle-Accessible Path\n",
    "1.0 = Bar\n",
    "1.1 = Restaurant\n",
    "2.0 = Grocery Store"
   ]
  },
  {
   "cell_type": "code",
   "execution_count": 12,
   "metadata": {},
   "outputs": [
    {
     "name": "stdout",
     "output_type": "stream",
     "text": [
      "[1.1 1.  2.  0. ]\n"
     ]
    },
    {
     "data": {
      "text/plain": [
       "<Axes: xlabel='fsq_am_cat', ylabel='count'>"
      ]
     },
     "execution_count": 12,
     "metadata": {},
     "output_type": "execute_result"
    },
    {
     "data": {
      "image/png": "[encoded data removed]",
      "text/plain": [
       "<Figure size 640x480 with 1 Axes>"
      ]
     },
     "metadata": {},
     "output_type": "display_data"
    }
   ],
   "source": [
    "# However, there were so few Bicycle Paths that they got dropped, \n",
    "# leaving me with Parks, Bars, Restaurants, and Grocery Stores:\n",
    "print(joint_query_df.fsq_am_cat.unique())\n",
    "\n",
    "sns.countplot(x=joint_query_df[\"fsq_am_cat\"])"
   ]
  },
  {
   "cell_type": "markdown",
   "metadata": {},
   "source": [
    "With this observation, I found that there were far more restaurants present in the dataset than "
   ]
  },
  {
   "cell_type": "markdown",
   "metadata": {},
   "source": [
    "# Database"
   ]
  },
  {
   "cell_type": "markdown",
   "metadata": {},
   "source": [
    "Put all your results in an SQLite3 database (remember, SQLite stores its databases as files in your local machine - make sure to create your database in your project's data/ directory!)"
   ]
  },
  {
   "cell_type": "code",
   "execution_count": null,
   "metadata": {},
   "outputs": [],
   "source": []
  },
  {
   "cell_type": "markdown",
   "metadata": {},
   "source": [
    "Look at the data before and after the join to validate your data."
   ]
  },
  {
   "cell_type": "code",
   "execution_count": null,
   "metadata": {},
   "outputs": [],
   "source": []
  }
 ],
 "metadata": {
  "kernelspec": {
   "display_name": "Python 3 (ipykernel)",
   "language": "python",
   "name": "python3"
  },
  "language_info": {
   "codemirror_mode": {
    "name": "ipython",
    "version": 3
   },
   "file_extension": ".py",
   "mimetype": "text/x-python",
   "name": "python",
   "nbconvert_exporter": "python",
   "pygments_lexer": "ipython3",
   "version": "3.10.9"
  }
 },
 "nbformat": 4,
 "nbformat_minor": 4
}
