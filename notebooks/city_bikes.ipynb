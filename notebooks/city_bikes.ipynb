{
 "cells": [
  {
   "cell_type": "markdown",
   "metadata": {},
   "source": [
    "# CityBikes"
   ]
  },
  {
   "cell_type": "code",
   "execution_count": 1,
   "metadata": {},
   "outputs": [],
   "source": [
    "# Libraries\n",
    "import json\n",
    "import requests\n",
    "import pandas as pd"
   ]
  },
  {
   "cell_type": "markdown",
   "metadata": {},
   "source": [
    "Send a request to CityBikes for the city of your choice. "
   ]
  },
  {
   "cell_type": "code",
   "execution_count": 2,
   "metadata": {
    "scrolled": true
   },
   "outputs": [
    {
     "name": "stdout",
     "output_type": "stream",
     "text": [
      "City Details:  {'city': 'Hamilton, ON', 'country': 'CA', 'latitude': 43.25643601915583, 'longitude': -79.86929655075073}\n",
      "----------------------------------------------------------------------------------------------------\n"
     ]
    },
    {
     "data": {
      "text/plain": [
       "{'empty_slots': 12,\n",
       " 'extra': {'address': '15 Hess Street North, Hamilton',\n",
       "  'last_updated': 1685931044,\n",
       "  'payment': ['key',\n",
       "   'applepay',\n",
       "   'androidpay',\n",
       "   'transitcard',\n",
       "   'accountnumber',\n",
       "   'phone'],\n",
       "  'payment-terminal': False,\n",
       "  'renting': 1,\n",
       "  'returning': 1,\n",
       "  'uid': 'hub_802'},\n",
       " 'free_bikes': 0,\n",
       " 'id': '45dbb0009135e465f49f054517cbe74d',\n",
       " 'latitude': 43.259125842121065,\n",
       " 'longitude': -79.87721174955368,\n",
       " 'name': 'Hess at king',\n",
       " 'timestamp': '2023-06-05T03:11:15.786000Z'}"
      ]
     },
     "execution_count": 2,
     "metadata": {},
     "output_type": "execute_result"
    }
   ],
   "source": [
    "# JSON source; the href key is used to pinpoint the json data for Hamilton, as per CityBikes API directions:\n",
    "url = \"https://api.citybik.es/v2/networks/sobi-hamilton\"\n",
    "citybikes_req = requests.get(url)\n",
    "\n",
    "# Confirmed access, now to load data into own copy of JSON:\n",
    "citybikes_json = json.loads(citybikes_req.text)\n",
    "\n",
    "# Display data; printing only a couple subsets of the JSON file to confirm contents without overloading system:\n",
    "print('City Details: ', citybikes_json[\"network\"][\"location\"])\n",
    "print('-' * 100)\n",
    "citybikes_json[\"network\"][\"stations\"][0]"
   ]
  },
  {
   "cell_type": "markdown",
   "metadata": {},
   "source": [
    "Parse through the response to get the details you want for the bike stations in that city (latitude, longitude, number of bikes). "
   ]
  },
  {
   "cell_type": "code",
   "execution_count": 3,
   "metadata": {
    "scrolled": true
   },
   "outputs": [
    {
     "data": {
      "text/plain": [
       "{'empty_slots': 12,\n",
       " 'free_bikes': 0,\n",
       " 'id': '45dbb0009135e465f49f054517cbe74d',\n",
       " 'latitude': 43.259125842121065,\n",
       " 'longitude': -79.87721174955368,\n",
       " 'name': 'Hess at king'}"
      ]
     },
     "execution_count": 3,
     "metadata": {},
     "output_type": "execute_result"
    }
   ],
   "source": [
    "# The data I want for analysis is nested under stations, so I need to go further \n",
    "stations_json = citybikes_json[\"network\"][\"stations\"]\n",
    "\n",
    "# I want to remove the entirety of the 'extra' key, as well as the timestamp key from each entry\n",
    "for element in stations_json:\n",
    "    element.pop(\"extra\", None)\n",
    "    element.pop(\"timestamp\", None)\n",
    "\n",
    "# Verify data\n",
    "stations_json[0]"
   ]
  },
  {
   "cell_type": "markdown",
   "metadata": {},
   "source": [
    "Put your parsed results into a DataFrame."
   ]
  },
  {
   "cell_type": "code",
   "execution_count": 4,
   "metadata": {},
   "outputs": [
    {
     "data": {
      "text/html": [
       "<div>\n",
       "<style scoped>\n",
       "    .dataframe tbody tr th:only-of-type {\n",
       "        vertical-align: middle;\n",
       "    }\n",
       "\n",
       "    .dataframe tbody tr th {\n",
       "        vertical-align: top;\n",
       "    }\n",
       "\n",
       "    .dataframe thead th {\n",
       "        text-align: right;\n",
       "    }\n",
       "</style>\n",
       "<table border=\"1\" class=\"dataframe\">\n",
       "  <thead>\n",
       "    <tr style=\"text-align: right;\">\n",
       "      <th></th>\n",
       "      <th>id</th>\n",
       "      <th>latitude</th>\n",
       "      <th>longitude</th>\n",
       "      <th>name</th>\n",
       "      <th>est_bike_slots</th>\n",
       "    </tr>\n",
       "  </thead>\n",
       "  <tbody>\n",
       "    <tr>\n",
       "      <th>0</th>\n",
       "      <td>45dbb0009135e465f49f054517cbe74d</td>\n",
       "      <td>43.259126</td>\n",
       "      <td>-79.877212</td>\n",
       "      <td>hess at king</td>\n",
       "      <td>12</td>\n",
       "    </tr>\n",
       "    <tr>\n",
       "      <th>1</th>\n",
       "      <td>cd881edad122a75c57d94b381cdfc6c0</td>\n",
       "      <td>43.269288</td>\n",
       "      <td>-79.871327</td>\n",
       "      <td>bayfront park</td>\n",
       "      <td>31</td>\n",
       "    </tr>\n",
       "    <tr>\n",
       "      <th>2</th>\n",
       "      <td>024a3edf037cb411d16acc08a7fcb954</td>\n",
       "      <td>43.267859</td>\n",
       "      <td>-79.867923</td>\n",
       "      <td>bay at strachan</td>\n",
       "      <td>25</td>\n",
       "    </tr>\n",
       "    <tr>\n",
       "      <th>3</th>\n",
       "      <td>b933317ff2861c45aacbea4cbf4b541f</td>\n",
       "      <td>43.263198</td>\n",
       "      <td>-79.871803</td>\n",
       "      <td>bay at mulberry</td>\n",
       "      <td>14</td>\n",
       "    </tr>\n",
       "    <tr>\n",
       "      <th>4</th>\n",
       "      <td>20dc109608315db09a8332d6e6940c75</td>\n",
       "      <td>43.256132</td>\n",
       "      <td>-79.874499</td>\n",
       "      <td>city hall</td>\n",
       "      <td>16</td>\n",
       "    </tr>\n",
       "  </tbody>\n",
       "</table>\n",
       "</div>"
      ],
      "text/plain": [
       "                                 id   latitude  longitude             name  \\\n",
       "0  45dbb0009135e465f49f054517cbe74d  43.259126 -79.877212     hess at king   \n",
       "1  cd881edad122a75c57d94b381cdfc6c0  43.269288 -79.871327    bayfront park   \n",
       "2  024a3edf037cb411d16acc08a7fcb954  43.267859 -79.867923  bay at strachan   \n",
       "3  b933317ff2861c45aacbea4cbf4b541f  43.263198 -79.871803  bay at mulberry   \n",
       "4  20dc109608315db09a8332d6e6940c75  43.256132 -79.874499        city hall   \n",
       "\n",
       "   est_bike_slots  \n",
       "0              12  \n",
       "1              31  \n",
       "2              25  \n",
       "3              14  \n",
       "4              16  "
      ]
     },
     "execution_count": 4,
     "metadata": {},
     "output_type": "execute_result"
    }
   ],
   "source": [
    "# Normalize the json file as a dataframe:\n",
    "stations_df = pd.json_normalize(stations_json)\n",
    "\n",
    "# However, I also want to do a little extra organising: \n",
    "# The 'empty_slots' and 'free_bikes' keys ought to be combined into an 'est_bike_slots' value\n",
    "# Old columns also dropped\n",
    "stations_df['est_bike_slots'] = stations_df['empty_slots'] + stations_df['free_bikes']\n",
    "stations_df = stations_df.drop(columns=['empty_slots', 'free_bikes'])\n",
    "\n",
    "# Some final cleaning, making site names all lower case:\n",
    "stations_df['name'] = stations_df['name'].apply(str.lower)\n",
    "\n",
    "# Create .csv and show final DataFrame:\n",
    "stations_df.to_csv('../data/bike_data.csv', index=False)\n",
    "stations_df.head()"
   ]
  }
 ],
 "metadata": {
  "kernelspec": {
   "display_name": "Python 3 (ipykernel)",
   "language": "python",
   "name": "python3"
  },
  "language_info": {
   "codemirror_mode": {
    "name": "ipython",
    "version": 3
   },
   "file_extension": ".py",
   "mimetype": "text/x-python",
   "name": "python",
   "nbconvert_exporter": "python",
   "pygments_lexer": "ipython3",
   "version": "3.10.9"
  }
 },
 "nbformat": 4,
 "nbformat_minor": 4
}
